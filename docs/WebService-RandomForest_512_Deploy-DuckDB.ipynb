{
 "cells": [
  {
   "cell_type": "code",
   "execution_count": 1,
   "metadata": {},
   "outputs": [],
   "source": [
    "import numpy as np\n",
    "import pandas as pd\n",
    "import sqlalchemy as sa\n",
    "import pickle, json, requests, base64\n",
    "\n",
    "import time\n",
    "from datetime import datetime\n"
   ]
  },
  {
   "cell_type": "markdown",
   "metadata": {},
   "source": [
    "# Scikit-Learn Model Deployment Use Case\n",
    "\n",
    "In this case, we will build a very large ensemble model (here, Random Foreast with 512 trees) on a digits dataset  (not very original !!!) and generate a SQL code for deployment using the web service. \n",
    "\n",
    "We then execute the SQL code on a local database (postgresql) and compare the SQL execution result with scikit-learn predict/predict_proba/.predict_log_proba result. \n",
    "\n",
    "Both results are stored in pandas dataframes. \n"
   ]
  },
  {
   "cell_type": "markdown",
   "metadata": {},
   "source": [
    "## Build a scikit-learn model"
   ]
  },
  {
   "cell_type": "code",
   "execution_count": 2,
   "metadata": {},
   "outputs": [],
   "source": [
    "from sklearn import datasets\n",
    "\n",
    "digits = datasets.load_digits()\n",
    "X = digits.data\n",
    "n_classes = len(digits.target_names)"
   ]
  },
  {
   "cell_type": "code",
   "execution_count": 3,
   "metadata": {},
   "outputs": [
    {
     "data": {
      "text/html": [
       "<style>#sk-container-id-1 {color: black;background-color: white;}#sk-container-id-1 pre{padding: 0;}#sk-container-id-1 div.sk-toggleable {background-color: white;}#sk-container-id-1 label.sk-toggleable__label {cursor: pointer;display: block;width: 100%;margin-bottom: 0;padding: 0.3em;box-sizing: border-box;text-align: center;}#sk-container-id-1 label.sk-toggleable__label-arrow:before {content: \"▸\";float: left;margin-right: 0.25em;color: #696969;}#sk-container-id-1 label.sk-toggleable__label-arrow:hover:before {color: black;}#sk-container-id-1 div.sk-estimator:hover label.sk-toggleable__label-arrow:before {color: black;}#sk-container-id-1 div.sk-toggleable__content {max-height: 0;max-width: 0;overflow: hidden;text-align: left;background-color: #f0f8ff;}#sk-container-id-1 div.sk-toggleable__content pre {margin: 0.2em;color: black;border-radius: 0.25em;background-color: #f0f8ff;}#sk-container-id-1 input.sk-toggleable__control:checked~div.sk-toggleable__content {max-height: 200px;max-width: 100%;overflow: auto;}#sk-container-id-1 input.sk-toggleable__control:checked~label.sk-toggleable__label-arrow:before {content: \"▾\";}#sk-container-id-1 div.sk-estimator input.sk-toggleable__control:checked~label.sk-toggleable__label {background-color: #d4ebff;}#sk-container-id-1 div.sk-label input.sk-toggleable__control:checked~label.sk-toggleable__label {background-color: #d4ebff;}#sk-container-id-1 input.sk-hidden--visually {border: 0;clip: rect(1px 1px 1px 1px);clip: rect(1px, 1px, 1px, 1px);height: 1px;margin: -1px;overflow: hidden;padding: 0;position: absolute;width: 1px;}#sk-container-id-1 div.sk-estimator {font-family: monospace;background-color: #f0f8ff;border: 1px dotted black;border-radius: 0.25em;box-sizing: border-box;margin-bottom: 0.5em;}#sk-container-id-1 div.sk-estimator:hover {background-color: #d4ebff;}#sk-container-id-1 div.sk-parallel-item::after {content: \"\";width: 100%;border-bottom: 1px solid gray;flex-grow: 1;}#sk-container-id-1 div.sk-label:hover label.sk-toggleable__label {background-color: #d4ebff;}#sk-container-id-1 div.sk-serial::before {content: \"\";position: absolute;border-left: 1px solid gray;box-sizing: border-box;top: 0;bottom: 0;left: 50%;z-index: 0;}#sk-container-id-1 div.sk-serial {display: flex;flex-direction: column;align-items: center;background-color: white;padding-right: 0.2em;padding-left: 0.2em;position: relative;}#sk-container-id-1 div.sk-item {position: relative;z-index: 1;}#sk-container-id-1 div.sk-parallel {display: flex;align-items: stretch;justify-content: center;background-color: white;position: relative;}#sk-container-id-1 div.sk-item::before, #sk-container-id-1 div.sk-parallel-item::before {content: \"\";position: absolute;border-left: 1px solid gray;box-sizing: border-box;top: 0;bottom: 0;left: 50%;z-index: -1;}#sk-container-id-1 div.sk-parallel-item {display: flex;flex-direction: column;z-index: 1;position: relative;background-color: white;}#sk-container-id-1 div.sk-parallel-item:first-child::after {align-self: flex-end;width: 50%;}#sk-container-id-1 div.sk-parallel-item:last-child::after {align-self: flex-start;width: 50%;}#sk-container-id-1 div.sk-parallel-item:only-child::after {width: 0;}#sk-container-id-1 div.sk-dashed-wrapped {border: 1px dashed gray;margin: 0 0.4em 0.5em 0.4em;box-sizing: border-box;padding-bottom: 0.4em;background-color: white;}#sk-container-id-1 div.sk-label label {font-family: monospace;font-weight: bold;display: inline-block;line-height: 1.2em;}#sk-container-id-1 div.sk-label-container {text-align: center;}#sk-container-id-1 div.sk-container {/* jupyter's `normalize.less` sets `[hidden] { display: none; }` but bootstrap.min.css set `[hidden] { display: none !important; }` so we also need the `!important` here to be able to override the default hidden behavior on the sphinx rendered scikit-learn.org. See: https://github.com/scikit-learn/scikit-learn/issues/21755 */display: inline-block !important;position: relative;}#sk-container-id-1 div.sk-text-repr-fallback {display: none;}</style><div id=\"sk-container-id-1\" class=\"sk-top-container\"><div class=\"sk-text-repr-fallback\"><pre>RandomForestClassifier(max_depth=7, min_samples_leaf=30, n_estimators=512,\n",
       "                       random_state=1960)</pre><b>In a Jupyter environment, please rerun this cell to show the HTML representation or trust the notebook. <br />On GitHub, the HTML representation is unable to render, please try loading this page with nbviewer.org.</b></div><div class=\"sk-container\" hidden><div class=\"sk-item\"><div class=\"sk-estimator sk-toggleable\"><input class=\"sk-toggleable__control sk-hidden--visually\" id=\"sk-estimator-id-1\" type=\"checkbox\" checked><label for=\"sk-estimator-id-1\" class=\"sk-toggleable__label sk-toggleable__label-arrow\">RandomForestClassifier</label><div class=\"sk-toggleable__content\"><pre>RandomForestClassifier(max_depth=7, min_samples_leaf=30, n_estimators=512,\n",
       "                       random_state=1960)</pre></div></div></div></div></div>"
      ],
      "text/plain": [
       "RandomForestClassifier(max_depth=7, min_samples_leaf=30, n_estimators=512,\n",
       "                       random_state=1960)"
      ]
     },
     "execution_count": 3,
     "metadata": {},
     "output_type": "execute_result"
    }
   ],
   "source": [
    "from sklearn.ensemble import RandomForestClassifier\n",
    "\n",
    "clf = RandomForestClassifier(n_estimators=512, max_depth=7, min_samples_leaf=30, random_state = 1960)\n",
    "clf.fit(digits.data, digits.target)"
   ]
  },
  {
   "cell_type": "code",
   "execution_count": 4,
   "metadata": {},
   "outputs": [],
   "source": [
    "#clf.__dict__"
   ]
  },
  {
   "cell_type": "markdown",
   "metadata": {},
   "source": [
    "## Generate SQL Code from the Model"
   ]
  },
  {
   "cell_type": "code",
   "execution_count": 5,
   "metadata": {},
   "outputs": [],
   "source": [
    "\n",
    "\n",
    "def test_ws_sql_gen(pickle_data):\n",
    "    WS_URL=\"http://localhost:1888/model\"\n",
    "    b64_data = base64.b64encode(pickle_data).decode('utf-8')\n",
    "    data={\"Name\":\"model1\", \"PickleData\":b64_data , \"SQLDialect\":\"duckdb\"}\n",
    "    r = requests.post(WS_URL, json=data)\n",
    "    #print(r.__dict__)\n",
    "    content = r.json()\n",
    "    # print(content)\n",
    "    lSQL = content[\"model\"][\"SQLGenrationResult\"][0][\"SQL\"]\n",
    "    return lSQL;\n",
    "\n"
   ]
  },
  {
   "cell_type": "code",
   "execution_count": 6,
   "metadata": {
    "scrolled": false
   },
   "outputs": [
    {
     "name": "stdout",
     "output_type": "stream",
     "text": [
      "WITH \"RF_0\" AS \n",
      "(WITH \"DT_node_lookup\" AS \n",
      "(SELECT \"ADS\".\"KEY\" AS \"KEY\", CASE WHEN (\"ADS\".\"Feature_43\" <= 2.5) THEN CASE WHEN (\"ADS\".\"Feature_26\" <= 3.5) THEN CASE WHEN (\"ADS\".\"Feature_19\" <= 6.5) THEN CASE WHEN (\"ADS\".\"Feature_28\" <= 15.5) THEN 4 ELSE 5 END ELSE 6 END ELSE CASE WHEN (\"ADS\".\"Feature_22\" <= 0.5) THEN CASE WHEN (\"ADS\".\"Feature_54\" <= 2.5) THEN CASE WHEN (\"ADS\".\"Feature_36\" <= 7.5) THEN 10 ELSE 11 END ELSE CASE WHEN (\"ADS\".\"Feature_33\" <= 0.5) THEN 13 ELSE 14 END END ELSE CASE WHEN (\"ADS\".\"Feature_34\" <= 7.5) THEN CASE WHEN (\"ADS\".\"Feature_44\" <= 1.5) THEN 17 ELSE 18 END ELSE CASE WHEN (\"ADS\".\"Feature_35\" <= 2.5) THEN CASE WHEN (\"ADS\".\"Feature_37\" <= 8.5) THEN 21 ELSE 22 END ELSE 23 END END END END ELSE CASE WHEN (\"ADS\".\"Feature_54\" <= 1.5) THEN CASE WHEN (\"ADS\".\"Feature_38\" <= 0.5) THEN CASE WHEN (\"ADS\".\"Feature_20\" <= 13.5) THEN CASE WHEN (\"ADS\".\"Feature_61\" <= 0.5) THEN CASE WHEN (\"ADS\".\"Feature_20\" <= 0.5) THEN 29 ELSE 30 END ELSE 31 END ELSE CASE WHEN (\"ADS\".\"Feature_35\" <= 15.5) THEN 33 ELSE CASE WHEN (\"ADS\".\"Feature_50\" <= 9.5) THEN 35 ELSE 36 END END END ELSE CASE WHEN (\"ADS\".\"Feature_53\" <= 0.5) THEN CASE WHEN (\"ADS\".\"Feature_26\" <= 12.5) THEN 39 ELSE 40 END ELSE CASE WHEN (\"ADS\".\"Feature_21\" <= 6.5) THEN 42 ELSE 43 END END END ELSE CASE WHEN (\"ADS\".\"Feature_26\" <= 7.5) THEN CASE WHEN (\"ADS\".\"Feature_9\" <= 2.5) THEN 46 ELSE CASE WHEN (\"ADS\".\"Feature_44\" <= 6.5) THEN 48 ELSE 49 END END ELSE CASE WHEN (\"ADS\".\"Feature_53\" <= 12.5) THEN CASE WHEN (\"ADS\".\"Feature_54\" <= 12.5) THEN 52 ELSE 53 END ELSE CASE WHEN (\"ADS\".\"Feature_62\" <= 1.5) THEN 55 ELSE 56 END END END END END AS node_id_2 \n",
      "FROM \"INPUT_DATA\" AS \"ADS\"), \n",
      "\"DT_node_data\" AS \n",
      "(SELECT \"Values\".nid AS nid, \"Values\".\"P_0\" AS \"P_0\", \"Values\".\"P_1\" AS \"P_1\", \"Values\".\"P_2\" AS \"P_2\", \"Values\".\"P_3\" AS \"P_3\", \"Values\".\"P_4\" AS \"P_4\", \"Values\".\"P_5\" AS \"P_5\", \"Values\".\"P_6\" AS \"P_6\", \"Values\".\"P_7\" AS \"P_7\", \"Values\".\"P_8\" AS \"P_8\", \"Values\".\"P_9\" AS \"P_9\", \"Values\".\"D\" AS \"D\", \"Values\".\"DP\" AS \"DP\" \n",
      "FROM (SELECT 4 AS nid, 0.0 AS \"P_0\", 0.0 AS \"P_1\", 0.05 AS \"P_2\", 0.8333333333333334 AS \"P_3\", 0.0 AS \"P_4\", 0.0 AS \"P_5\", 0.0 AS \"P_6\", 0.06666666666666667 AS \"P_7\", 0.0 AS \"P_8\", 0.05 AS \"P_9\", 3 AS \"D\", 0.8333333333333334 AS \"DP\" UNION ALL SELECT 5 AS nid, 0.0 AS \"P_0\", 0.0 AS \"P_1\", 0.0 AS \"P_2\", 0.9875 AS \"P_3\", 0.0 AS \"P_4\", 0.0 AS \"P_5\", 0.0 AS \"P_6\", 0.0 AS \"P_7\", 0.0 AS \"P_8\", 0.0125 AS \"P_9\", 3 AS \"D\", 0.9875 AS \"DP\" UNION ALL SELECT 6 AS nid, 0.0 AS \"P_0\", 0.18 AS \"P_1\", 0.02 AS \"P_2\", 0.3 AS \"P_3\", 0.0 AS \"P_4\", 0.0 AS \"P_5\", 0.0 AS \"P_6\", 0.0 AS \"P_7\", 0.14 AS \"P_8\", 0.36 AS \"P_9\", 9 AS \"D\", 0.36 AS \"DP\" UNION ALL SELECT 10 AS nid, 0.2037037037037037 AS \"P_0\", 0.0 AS \"P_1\", 0.0 AS \"P_2\", 0.0 AS \"P_3\", 0.0 AS \"P_4\", 0.5555555555555556 AS \"P_5\", 0.0 AS \"P_6\", 0.0 AS \"P_7\", 0.018518518518518517 AS \"P_8\", 0.2222222222222222 AS \"P_9\", 5 AS \"D\", 0.5555555555555556 AS \"DP\" UNION ALL SELECT 11 AS nid, 0.0 AS \"P_0\", 0.14102564102564102 AS \"P_1\", 0.0 AS \"P_2\", 0.0 AS \"P_3\", 0.0 AS \"P_4\", 0.7692307692307693 AS \"P_5\", 0.0 AS \"P_6\", 0.0 AS \"P_7\", 0.0641025641025641 AS \"P_8\", 0.02564102564102564 AS \"P_9\", 5 AS \"D\", 0.7692307692307693 AS \"DP\" UNION ALL SELECT 13 AS nid, 0.0 AS \"P_0\", 0.05970149253731343 AS \"P_1\", 0.014925373134328358 AS \"P_2\", 0.3582089552238806 AS \"P_3\", 0.0 AS \"P_4\", 0.11940298507462686 AS \"P_5\", 0.0 AS \"P_6\", 0.0 AS \"P_7\", 0.04477611940298507 AS \"P_8\", 0.40298507462686567 AS \"P_9\", 9 AS \"D\", 0.40298507462686567 AS \"DP\" UNION ALL SELECT 14 AS nid, 0.2807017543859649 AS \"P_0\", 0.03508771929824561 AS \"P_1\", 0.0 AS \"P_2\", 0.0 AS \"P_3\", 0.0 AS \"P_4\", 0.22807017543859648 AS \"P_5\", 0.2807017543859649 AS \"P_6\", 0.0 AS \"P_7\", 0.03508771929824561 AS \"P_8\", 0.14035087719298245 AS \"P_9\", 0 AS \"D\", 0.2807017543859649 AS \"DP\" UNION ALL SELECT 17 AS nid, 0.1076923076923077 AS \"P_0\", 0.0 AS \"P_1\", 0.0 AS \"P_2\", 0.0 AS \"P_3\", 0.0 AS \"P_4\", 0.0 AS \"P_5\", 0.0 AS \"P_6\", 0.0 AS \"P_7\", 0.0 AS \"P_8\", 0.8923076923076924 AS \"P_9\", 9 AS \"D\", 0.8923076923076924 AS \"DP\" U... ALL SELECT 21 AS nid, 0.0 AS \"P_0\", 0.0 AS \"P_1\", 0.0 AS \"P_2\", 0.0 AS \"P_3\", 0.038461538461538464 AS \"P_4\", 0.0 AS \"P_5\", 0.0 AS \"P_6\", 0.9615384615384616 AS \"P_7\", 0.0 AS \"P_8\", 0.0 AS \"P_9\", 7 AS \"D\", 0.9615384615384616 AS \"DP\" UNION ALL SELECT 22 AS nid, 0.0 AS \"P_0\", 0.0 AS \"P_1\", 0.0 AS \"P_2\", 0.0 AS \"P_3\", 0.0 AS \"P_4\", 0.0 AS \"P_5\", 0.0 AS \"P_6\", 1.0 AS \"P_7\", 0.0 AS \"P_8\", 0.0 AS \"P_9\", 7 AS \"D\", 1.0 AS \"DP\" UNION ALL SELECT 25 AS nid, 0.0 AS \"P_0\", 0.0 AS \"P_1\", 0.42592592592592593 AS \"P_2\", 0.037037037037037035 AS \"P_3\", 0.0 AS \"P_4\", 0.07407407407407407 AS \"P_5\", 0.4074074074074074 AS \"P_6\", 0.0 AS \"P_7\", 0.037037037037037035 AS \"P_8\", 0.018518518518518517 AS \"P_9\", 2 AS \"D\", 0.42592592592592593 AS \"DP\" UNION ALL SELECT 27 AS nid, 0.12280701754385964 AS \"P_0\", 0.0 AS \"P_1\", 0.6666666666666666 AS \"P_2\", 0.05263157894736842 AS \"P_3\", 0.0 AS \"P_4\", 0.07017543859649122 AS \"P_5\", 0.017543859649122806 AS \"P_6\", 0.017543859649122806 AS \"P_7\", 0.0 AS \"P_8\", 0.05263157894736842 AS \"P_9\", 2 AS \"D\", 0.6666666666666666 AS \"DP\" UNION ALL SELECT 28 AS nid, 0.0 AS \"P_0\", 0.0 AS \"P_1\", 0.9620253164556962 AS \"P_2\", 0.0 AS \"P_3\", 0.0 AS \"P_4\", 0.0 AS \"P_5\", 0.0 AS \"P_6\", 0.02531645569620253 AS \"P_7\", 0.012658227848101266 AS \"P_8\", 0.0 AS \"P_9\", 2 AS \"D\", 0.9620253164556962 AS \"DP\" UNION ALL SELECT 31 AS nid, 0.0 AS \"P_0\", 0.046875 AS \"P_1\", 0.421875 AS \"P_2\", 0.0 AS \"P_3\", 0.03125 AS \"P_4\", 0.140625 AS \"P_5\", 0.1875 AS \"P_6\", 0.09375 AS \"P_7\", 0.078125 AS \"P_8\", 0.0 AS \"P_9\", 2 AS \"D\", 0.421875 AS \"DP\" UNION ALL SELECT 33 AS nid, 0.0 AS \"P_0\", 0.02666666666666667 AS \"P_1\", 0.06666666666666667 AS \"P_2\", 0.12 AS \"P_3\", 0.0 AS \"P_4\", 0.0 AS \"P_5\", 0.0 AS \"P_6\", 0.0 AS \"P_7\", 0.7866666666666666 AS \"P_8\", 0.0 AS \"P_9\", 8 AS \"D\", 0.7866666666666666 AS \"DP\" UNION ALL SELECT 34 AS nid, 0.06060606060606061 AS \"P_0\", 0.13636363636363635 AS \"P_1\", 0.0 AS \"P_2\", 0.045454545454545456 AS \"P_3\", 0.0 AS \"P_4\", 0.0 AS \"P_5\", 0.0 AS \"P_6\", 0.0 AS \"P_7\", 0.6818181818181818 AS \"P_8\", 0.07575757575757576 AS \"P_9\", 8 AS \"D\", 0.6818181818181818 AS \"DP\" UNION ALL SELECT 36 AS nid, 0.0 AS \"P_0\", 0.7333333333333333 AS \"P_1\", 0.03333333333333333 AS \"P_2\", 0.0 AS \"P_3\", 0.0 AS \"P_4\", 0.03333333333333333 AS \"P_5\", 0.0 AS \"P_6\", 0.0 AS \"P_7\", 0.2 AS \"P_8\", 0.0 AS \"P_9\", 1 AS \"D\", 0.7333333333333333 AS \"DP\" UNION ALL SELECT 37 AS nid, 0.06153846153846154 AS \"P_0\", 0.4 AS \"P_1\", 0.06153846153846154 AS \"P_2\", 0.0 AS \"P_3\", 0.015384615384615385 AS \"P_4\", 0.0 AS \"P_5\", 0.35384615384615387 AS \"P_6\", 0.0 AS \"P_7\", 0.1076923076923077 AS \"P_8\", 0.0 AS \"P_9\", 1 AS \"D\", 0.4 AS \"DP\" UNION ALL SELECT 40 AS nid, 0.17777777777777778 AS \"P_0\", 0.0 AS \"P_1\", 0.0 AS \"P_2\", 0.0 AS \"P_3\", 0.06666666666666667 AS \"P_4\", 0.1111111111111111 AS \"P_5\", 0.022222222222222223 AS \"P_6\", 0.5333333333333333 AS \"P_7\", 0.08888888888888889 AS \"P_8\", 0.0 AS \"P_9\", 7 AS \"D\", 0.5333333333333333 AS \"DP\" UNION ALL SELECT 42 AS nid, 0.20930232558139536 AS \"P_0\", 0.023255813953488372 AS \"P_1\", 0.0 AS \"P_2\", 0.0 AS \"P_3\", 0.0 AS \"P_4\", 0.023255813953488372 AS \"P_5\", 0.7209302325581395 AS \"P_6\", 0.0 AS \"P_7\", 0.0 AS \"P_8\", 0.023255813953488372 AS \"P_9\", 6 AS \"D\", 0.7209302325581395 AS \"DP\" UNION ALL SELECT 43 AS nid, 0.09090909090909091 AS \"P_0\", 0.0 AS \"P_1\", 0.0 AS \"P_2\", 0.0 AS \"P_3\", 0.0 AS \"P_4\", 0.0 AS \"P_5\", 0.9090909090909091 AS \"P_6\", 0.0 AS \"P_7\", 0.0 AS \"P_8\", 0.0 AS \"P_9\", 6 AS \"D\", 0.9090909090909091 AS \"DP\" UNION ALL SELECT 46 AS nid, 1.0 AS \"P_0\", 0.0 AS \"P_1\", 0.0 AS \"P_2\", 0.0 AS \"P_3\", 0.0 AS \"P_4\", 0.0 AS \"P_5\", 0.0 AS \"P_6\", 0.0 AS \"P_7\", 0.0 AS \"P_8\", 0.0 AS \"P_9\", 0 AS \"D\", 1.0 AS \"DP\" UNION ALL SELECT 47 AS nid, 0.3333333333333333 AS \"P_0\", 0.037037037037037035 AS \"P_1\", 0.0 AS \"P_2\", 0.0 AS \"P_3\", 0.5555555555555556 AS \"P_4\", 0.05555555555555555 AS \"P_5\", 0.0 AS \"P_6\", 0.018518518518518517 AS \"P_7\", 0.0 AS \"P_8\", 0.0 AS \"P_9\", 4 AS \"D\", 0.5555555555555556 AS \"DP\" UNION ALL SELECT 50 AS nid, 0.0 AS \"P_0\", 0.3 AS \"P_1\", 0.0 AS \"P_2\", 0.0 AS \"P_3\", 0.24 AS \"P_4\", 0.06 AS \"P_5\", 0.22 ...core_0\", score_max.\"Score_1\" AS \"Score_1\", score_max.\"Score_2\" AS \"Score_2\", score_max.\"Score_3\" AS \"Score_3\", score_max.\"Score_4\" AS \"Score_4\", score_max.\"Score_5\" AS \"Score_5\", score_max.\"Score_6\" AS \"Score_6\", score_max.\"Score_7\" AS \"Score_7\", score_max.\"Score_8\" AS \"Score_8\", score_max.\"Score_9\" AS \"Score_9\", score_max.\"Proba_0\" AS \"Proba_0\", score_max.\"Proba_1\" AS \"Proba_1\", score_max.\"Proba_2\" AS \"Proba_2\", score_max.\"Proba_3\" AS \"Proba_3\", score_max.\"Proba_4\" AS \"Proba_4\", score_max.\"Proba_5\" AS \"Proba_5\", score_max.\"Proba_6\" AS \"Proba_6\", score_max.\"Proba_7\" AS \"Proba_7\", score_max.\"Proba_8\" AS \"Proba_8\", score_max.\"Proba_9\" AS \"Proba_9\", score_max.\"LogProba_0\" AS \"LogProba_0\", score_max.\"LogProba_1\" AS \"LogProba_1\", score_max.\"LogProba_2\" AS \"LogProba_2\", score_max.\"LogProba_3\" AS \"LogProba_3\", score_max.\"LogProba_4\" AS \"LogProba_4\", score_max.\"LogProba_5\" AS \"LogProba_5\", score_max.\"LogProba_6\" AS \"LogProba_6\", score_max.\"LogProba_7\" AS \"LogProba_7\", score_max.\"LogProba_8\" AS \"LogProba_8\", score_max.\"LogProba_9\" AS \"LogProba_9\", score_max.\"Decision\" AS \"Decision\", score_max.\"DecisionProba\" AS \"DecisionProba\", score_max.\"KEY_m\" AS \"KEY_m\", score_max.\"max_Proba\" AS \"max_Proba\", \"arg_max_t_Proba\".\"KEY_Proba\" AS \"KEY_Proba\", \"arg_max_t_Proba\".\"arg_max_Proba\" AS \"arg_max_Proba\" \n",
      "FROM score_max LEFT OUTER JOIN (SELECT union_with_max.\"KEY\" AS \"KEY_Proba\", max(union_with_max.class) AS \"arg_max_Proba\" \n",
      "FROM union_with_max \n",
      "WHERE union_with_max.\"max_Proba\" <= union_with_max.\"Proba\" GROUP BY union_with_max.\"KEY\") AS \"arg_max_t_Proba\" ON score_max.\"KEY\" = \"arg_max_t_Proba\".\"KEY_Proba\")\n",
      " SELECT arg_max_cte.\"KEY\" AS \"KEY\", arg_max_cte.\"Score_0\" AS \"Score_0\", arg_max_cte.\"Score_1\" AS \"Score_1\", arg_max_cte.\"Score_2\" AS \"Score_2\", arg_max_cte.\"Score_3\" AS \"Score_3\", arg_max_cte.\"Score_4\" AS \"Score_4\", arg_max_cte.\"Score_5\" AS \"Score_5\", arg_max_cte.\"Score_6\" AS \"Score_6\", arg_max_cte.\"Score_7\" AS \"Score_7\", arg_max_cte.\"Score_8\" AS \"Score_8\", arg_max_cte.\"Score_9\" AS \"Score_9\", arg_max_cte.\"Proba_0\" AS \"Proba_0\", arg_max_cte.\"Proba_1\" AS \"Proba_1\", arg_max_cte.\"Proba_2\" AS \"Proba_2\", arg_max_cte.\"Proba_3\" AS \"Proba_3\", arg_max_cte.\"Proba_4\" AS \"Proba_4\", arg_max_cte.\"Proba_5\" AS \"Proba_5\", arg_max_cte.\"Proba_6\" AS \"Proba_6\", arg_max_cte.\"Proba_7\" AS \"Proba_7\", arg_max_cte.\"Proba_8\" AS \"Proba_8\", arg_max_cte.\"Proba_9\" AS \"Proba_9\", CASE WHEN (arg_max_cte.\"Proba_0\" IS NULL OR arg_max_cte.\"Proba_0\" > 0.0) THEN ln(arg_max_cte.\"Proba_0\") ELSE -1.79769313486231e+308 END AS \"LogProba_0\", CASE WHEN (arg_max_cte.\"Proba_1\" IS NULL OR arg_max_cte.\"Proba_1\" > 0.0) THEN ln(arg_max_cte.\"Proba_1\") ELSE -1.79769313486231e+308 END AS \"LogProba_1\", CASE WHEN (arg_max_cte.\"Proba_2\" IS NULL OR arg_max_cte.\"Proba_2\" > 0.0) THEN ln(arg_max_cte.\"Proba_2\") ELSE -1.79769313486231e+308 END AS \"LogProba_2\", CASE WHEN (arg_max_cte.\"Proba_3\" IS NULL OR arg_max_cte.\"Proba_3\" > 0.0) THEN ln(arg_max_cte.\"Proba_3\") ELSE -1.79769313486231e+308 END AS \"LogProba_3\", CASE WHEN (arg_max_cte.\"Proba_4\" IS NULL OR arg_max_cte.\"Proba_4\" > 0.0) THEN ln(arg_max_cte.\"Proba_4\") ELSE -1.79769313486231e+308 END AS \"LogProba_4\", CASE WHEN (arg_max_cte.\"Proba_5\" IS NULL OR arg_max_cte.\"Proba_5\" > 0.0) THEN ln(arg_max_cte.\"Proba_5\") ELSE -1.79769313486231e+308 END AS \"LogProba_5\", CASE WHEN (arg_max_cte.\"Proba_6\" IS NULL OR arg_max_cte.\"Proba_6\" > 0.0) THEN ln(arg_max_cte.\"Proba_6\") ELSE -1.79769313486231e+308 END AS \"LogProba_6\", CASE WHEN (arg_max_cte.\"Proba_7\" IS NULL OR arg_max_cte.\"Proba_7\" > 0.0) THEN ln(arg_max_cte.\"Proba_7\") ELSE -1.79769313486231e+308 END AS \"LogProba_7\", CASE WHEN (arg_max_cte.\"Proba_8\" IS NULL OR arg_max_cte.\"Proba_8\" > 0.0) THEN ln(arg_max_cte.\"Proba_8\") ELSE -1.79769313486231e+308 END AS \"LogProba_8\", CASE WHEN (arg_max_cte.\"Proba_9\" IS NULL OR arg_max_cte.\"Proba_9\" > 0.0) THEN ln(arg_max_cte.\"Proba_9\") ELSE -1.79769313486231e+308 END AS \"LogProba_9\", arg_max_cte.\"arg_max_Proba\" AS \"Decision\", arg_max_cte.\"max_Proba\" AS \"DecisionProba\" \n",
      "FROM arg_max_cte\n"
     ]
    }
   ],
   "source": [
    "pickle_data = pickle.dumps(clf)\n",
    "lSQL = test_ws_sql_gen(pickle_data)\n",
    "with open('data/digits_64_features_RF_512_DuckDB.sql', 'w') as f:\n",
    "    f.write(lSQL)\n",
    "N = len(lSQL)\n",
    "P = 4000\n",
    "print(lSQL[0:P] + \"...\" + lSQL[N//2:(N//2 + P)] + \"...\" + lSQL[-P:])"
   ]
  },
  {
   "cell_type": "markdown",
   "metadata": {},
   "source": [
    "## Execute the SQL Code"
   ]
  },
  {
   "cell_type": "code",
   "execution_count": 7,
   "metadata": {},
   "outputs": [
    {
     "name": "stdout",
     "output_type": "stream",
     "text": [
      "DUCKDB_VERSION [('0.5.1', '7c111322d')]\n"
     ]
    }
   ],
   "source": [
    "# save the dataset in a database table\n",
    "\n",
    "conf = {\"memory_limit\": \"1000mb\", \"temp_directory\" : \"/tmp\"}\n",
    "engine = sa.create_engine(\"duckdb:///:memory:\" , connect_args={\"config\": conf}, echo=False)\n",
    "conn = engine.connect()\n",
    "\n",
    "lTable = pd.DataFrame(digits.data);\n",
    "lTable.columns = ['Feature_' + str(c) for c in range(digits.data.shape[1])]\n",
    "lTable['KEY'] = range(lTable.shape[0])\n",
    "lTable.to_csv(\"data/digits.csv\", index=False)\n",
    "lTable.to_sql(\"INPUT_DATA\" , conn,   if_exists='replace', index=False)\n",
    "\n",
    "print(\"DUCKDB_VERSION\", [x for x in conn.execute(\"PRAGMA version\")])"
   ]
  },
  {
   "cell_type": "code",
   "execution_count": null,
   "metadata": {},
   "outputs": [],
   "source": []
  },
  {
   "cell_type": "code",
   "execution_count": null,
   "metadata": {
    "scrolled": false
   },
   "outputs": [],
   "source": [
    "sql_output = pd.read_sql(lSQL , conn);\n",
    "sql_output = sql_output.sort_values(by='KEY').reset_index(drop=True)\n",
    "conn.close()"
   ]
  },
  {
   "cell_type": "code",
   "execution_count": null,
   "metadata": {
    "scrolled": true
   },
   "outputs": [],
   "source": [
    "sql_output.sample(12, random_state=1960)"
   ]
  },
  {
   "cell_type": "code",
   "execution_count": null,
   "metadata": {},
   "outputs": [],
   "source": [
    "sql_output.Decision.value_counts()"
   ]
  },
  {
   "cell_type": "markdown",
   "metadata": {},
   "source": [
    "## Scikit-learn Prediction"
   ]
  },
  {
   "cell_type": "code",
   "execution_count": null,
   "metadata": {},
   "outputs": [],
   "source": [
    "skl_outputs = pd.DataFrame()\n",
    "skl_output_key = pd.DataFrame(list(range(X.shape[0])), columns=['KEY']);\n",
    "skl_output_score = pd.DataFrame(columns=['Score_' + str(c) for c in range(n_classes)]);\n",
    "skl_output_proba = pd.DataFrame(clf.predict_proba(X), columns=['Proba_' + str(c) for c in range(n_classes)])\n",
    "skl_output_log_proba = pd.DataFrame(clf.predict_log_proba(X), columns=['LogProba_' + str(c) for c in range(n_classes)])\n",
    "skl_output_decision = pd.DataFrame(clf.predict(X), columns=['Decision'])\n",
    "skl_output = pd.concat([skl_output_key, skl_output_score, skl_output_proba, skl_output_log_proba, skl_output_decision] , axis=1)\n",
    "skl_output.sample(12, random_state=1960)\n"
   ]
  },
  {
   "cell_type": "markdown",
   "metadata": {},
   "source": [
    "## Comparing the SQL and Scikit-learn Predictions"
   ]
  },
  {
   "cell_type": "code",
   "execution_count": null,
   "metadata": {},
   "outputs": [],
   "source": [
    "sql_skl_join = skl_output.join(sql_output , how='left', on='KEY', lsuffix='_skl', rsuffix='_sql')"
   ]
  },
  {
   "cell_type": "code",
   "execution_count": null,
   "metadata": {},
   "outputs": [],
   "source": [
    "sql_skl_join.sample(12, random_state=1960)"
   ]
  },
  {
   "cell_type": "code",
   "execution_count": null,
   "metadata": {},
   "outputs": [],
   "source": [
    "condition = (sql_skl_join.Decision_sql != sql_skl_join.Decision_skl)\n",
    "sql_skl_join[condition]\n"
   ]
  },
  {
   "cell_type": "code",
   "execution_count": null,
   "metadata": {},
   "outputs": [],
   "source": []
  }
 ],
 "metadata": {
  "kernelspec": {
   "display_name": "Python 3",
   "language": "python",
   "name": "python3"
  },
  "language_info": {
   "codemirror_mode": {
    "name": "ipython",
    "version": 3
   },
   "file_extension": ".py",
   "mimetype": "text/x-python",
   "name": "python",
   "nbconvert_exporter": "python",
   "pygments_lexer": "ipython3",
   "version": "3.10.7"
  }
 },
 "nbformat": 4,
 "nbformat_minor": 1
}
